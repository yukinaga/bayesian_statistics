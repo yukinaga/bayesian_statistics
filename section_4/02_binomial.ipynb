{
  "nbformat": 4,
  "nbformat_minor": 0,
  "metadata": {
    "colab": {
      "provenance": [],
      "collapsed_sections": [],
      "authorship_tag": "ABX9TyOqW1KPGuAT/s/fVFZH65DB",
      "include_colab_link": true
    },
    "kernelspec": {
      "name": "python3",
      "display_name": "Python 3"
    },
    "language_info": {
      "name": "python"
    }
  },
  "cells": [
    {
      "cell_type": "markdown",
      "metadata": {
        "id": "view-in-github",
        "colab_type": "text"
      },
      "source": [
        "<a href=\"https://colab.research.google.com/github/yukinaga/bayesian_statistics/blob/main/section_4/02_binomial.ipynb\" target=\"_parent\"><img src=\"https://colab.research.google.com/assets/colab-badge.svg\" alt=\"Open In Colab\"/></a>"
      ]
    },
    {
      "cell_type": "markdown",
      "source": [
        "# 二項分布の利用\n",
        "二項分布を利用してベイズ推定のコードを記述します。   "
      ],
      "metadata": {
        "id": "BIvui-Y2tUTk"
      }
    },
    {
      "cell_type": "markdown",
      "metadata": {
        "id": "W1edtomRb8u5"
      },
      "source": [
        "## 二項分布\n",
        "「二項分布」は以下の式で表されます。\n",
        "\n",
        "$$p(x\\mid \\theta, N) = {}_N C_x\\theta^{N}(1-\\theta)^{N-x} = \\frac{N!}{x!(N-x)!}\\theta^{N}(1-\\theta)^{N-x}$$\n",
        "\n",
        "ウェブサイトにおけるボタンのクリック率の例では、$\\theta$がボタンのクリック率、$N$がサイトの表示回数、$x$がボタンのクリック数になります。  \n",
        "以下のコードは、SciPyの`stats`を使い二項分布を表示します。  "
      ]
    },
    {
      "cell_type": "code",
      "metadata": {
        "id": "fTU9kEEFcAPV"
      },
      "source": [
        "import numpy as np\n",
        "import matplotlib.pyplot as plt\n",
        "from scipy import stats\n",
        "\n",
        "plt.style.use(\"seaborn-darkgrid\")\n",
        "\n",
        "def show_binom(x, n, theta):\n",
        "    plt.bar(\n",
        "        x,\n",
        "        stats.binom.pmf(x, n, theta),\n",
        "        alpha=0.5,\n",
        "        label=r\"$N$:\"+str(n)+\",\"+r\"$\\theta$:\"+str(theta)\n",
        "        )\n",
        "\n",
        "x = range(40)  # xの範囲は0から39まで\n",
        "\n",
        "show_binom(x, 10, 0.4)\n",
        "show_binom(x, 20, 0.4)\n",
        "show_binom(x, 40, 0.4)\n",
        "show_binom(x, 60, 0.4)\n",
        "\n",
        "plt.xlabel(r\"$x$\")\n",
        "plt.ylabel(r\"$p(x\\mid\\theta, N)$\")\n",
        "plt.legend()\n",
        "plt.show()"
      ],
      "execution_count": null,
      "outputs": []
    },
    {
      "cell_type": "markdown",
      "source": [
        "ウェブサイトにおけるボタンのクリック率の例では、複数回サイトが表示された際のクリック回数は二項分布となります。  \n",
        "従って、この二項分布を尤度として使うことで複数のベイズ更新を1つにまとめることができます。  "
      ],
      "metadata": {
        "id": "S9-MD2r2l61H"
      }
    },
    {
      "cell_type": "markdown",
      "source": [
        "## 事前確率の用意\n",
        "二項分布を使ってベイズ更新を行いましょう。  \n",
        "まずは事前確率を用意します。"
      ],
      "metadata": {
        "id": "0ORHz7Dw96Qr"
      }
    },
    {
      "cell_type": "code",
      "metadata": {
        "id": "zwuDAt6WbQkz"
      },
      "source": [
        "import numpy as np\n",
        "\n",
        "thetas = np.linspace(0, 1, 500)  # パラメータ\n",
        "p = np.ones(len(thetas)) / len(thetas)  # パラメータの確率分布: 一様分布\n",
        "print(p)"
      ],
      "execution_count": null,
      "outputs": []
    },
    {
      "cell_type": "markdown",
      "source": [
        "## 尤度を計算する関数\n",
        "二項分布を利用し尤度を計算する関数を用意します。  \n",
        "正規化を行うため、定数である${}_N C_x$のコードは省略できます。  "
      ],
      "metadata": {
        "id": "0Vd9PpMw4ZqA"
      }
    },
    {
      "cell_type": "code",
      "metadata": {
        "id": "jObYAviWbMpW"
      },
      "source": [
        "def likehood(x, N):\n",
        "    return thetas**x * (1-thetas)**(N-x)  # 二項分布、Cの表記は省略"
      ],
      "execution_count": null,
      "outputs": []
    },
    {
      "cell_type": "markdown",
      "source": [
        "## 事後確率を計算する関数\n",
        "事後確率を計算するための関数を設定します。"
      ],
      "metadata": {
        "id": "vxmoKBAM6bV2"
      }
    },
    {
      "cell_type": "code",
      "metadata": {
        "id": "zDd4GDxpbOsp"
      },
      "source": [
        "def posterior(x, N, prior):\n",
        "    lipr = prior * likehood(x, N)  # 事前確率と尤度の積\n",
        "    return lipr / lipr.sum()  # 正規化"
      ],
      "execution_count": null,
      "outputs": []
    },
    {
      "cell_type": "markdown",
      "metadata": {
        "id": "iQMWn5mGcTQ9"
      },
      "source": [
        "## 二項分布をベイズ更新に利用\n",
        "二項分布を利用し、一度にベイズ更新を行います。"
      ]
    },
    {
      "cell_type": "code",
      "metadata": {
        "id": "wJEggFa4bkbg"
      },
      "source": [
        "def show_posterior(clicks, n):\n",
        "    p = np.ones(len(thetas)) / len(thetas)  # 事前分布\n",
        "    p = posterior(clicks, n, p)\n",
        "    plt.plot(thetas, p, label=str(clicks)+\"/\"+str(n))\n",
        "\n",
        "show_posterior(1, 5)\n",
        "show_posterior(2, 20)\n",
        "show_posterior(5, 100)\n",
        "\n",
        "plt.xlim(0, 0.5)\n",
        "plt.xlabel(r\"$\\theta$\")\n",
        "plt.ylabel(r\"$p(\\theta)$\")\n",
        "plt.legend()\n",
        "plt.show()"
      ],
      "execution_count": null,
      "outputs": []
    },
    {
      "cell_type": "markdown",
      "source": [
        "個々にベイズ更新をした場合と同じグラフの形状を得ることができました。"
      ],
      "metadata": {
        "id": "bJRj34c2njJS"
      }
    }
  ]
}