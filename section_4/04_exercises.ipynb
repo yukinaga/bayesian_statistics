{
  "nbformat": 4,
  "nbformat_minor": 0,
  "metadata": {
    "colab": {
      "provenance": [],
      "collapsed_sections": [],
      "authorship_tag": "ABX9TyM8WHnBLcUNZlx7+I2Vfecp",
      "include_colab_link": true
    },
    "kernelspec": {
      "name": "python3",
      "display_name": "Python 3"
    },
    "language_info": {
      "name": "python"
    }
  },
  "cells": [
    {
      "cell_type": "markdown",
      "metadata": {
        "id": "view-in-github",
        "colab_type": "text"
      },
      "source": [
        "<a href=\"https://colab.research.google.com/github/yukinaga/bayesian_statistics/blob/main/section_4/04_exercises.ipynb\" target=\"_parent\"><img src=\"https://colab.research.google.com/assets/colab-badge.svg\" alt=\"Open In Colab\"/></a>"
      ]
    },
    {
      "cell_type": "markdown",
      "metadata": {
        "id": "-1oiRQQbfTsT"
      },
      "source": [
        "# 演習\n",
        "あるゲームにおけるアイテムA、アイテムBの出現率に違いがあるかどうか、PyMC3を使って分析しましょう。  \n",
        "宝箱からランダムにアイテムが出現するとします。  \n"
      ]
    },
    {
      "cell_type": "markdown",
      "source": [
        "## pymc3のインストール\n",
        "pymc3をpipによりインストールします。"
      ],
      "metadata": {
        "id": "9_PFpxn3ua0W"
      }
    },
    {
      "cell_type": "code",
      "source": [
        "!pip install pymc3"
      ],
      "metadata": {
        "id": "AJiV0qzIpcXx"
      },
      "execution_count": null,
      "outputs": []
    },
    {
      "cell_type": "markdown",
      "metadata": {
        "id": "zAQEbDh9qlXu"
      },
      "source": [
        "必要な各設定を行います。"
      ]
    },
    {
      "cell_type": "code",
      "metadata": {
        "id": "n09hEfCoIQ7c"
      },
      "source": [
        "import numpy as np\n",
        "from matplotlib import pyplot as plt\n",
        "import pymc3 as pm\n",
        "\n",
        "plt.style.use(\"seaborn-darkgrid\")"
      ],
      "execution_count": null,
      "outputs": []
    },
    {
      "cell_type": "markdown",
      "source": [
        "## A/Bテスト\n",
        "アイテムAの出現率、アイテムBの出現率に違いがあるのか、分析するためにA/Bテストを行いましょう。  \n",
        "以下のセルのコードに追記を行ってください。  "
      ],
      "metadata": {
        "id": "PWmeakAQJWC1"
      }
    },
    {
      "cell_type": "code",
      "metadata": {
        "id": "TF-ErYFGIe1J"
      },
      "source": [
        "n = (438, 545)  # 宝箱を開けた回数\n",
        "items = (18, 36)  # アイテムA、Bの出現数\n",
        "\n",
        "with pm.Model() as model:\n",
        "    # ------- ここからコードを記述 -------\n",
        "\n",
        "\n",
        "\n",
        "    # ------- ここまで ------- "
      ],
      "execution_count": null,
      "outputs": []
    },
    {
      "cell_type": "markdown",
      "metadata": {
        "id": "ei1wQAyTr1lc"
      },
      "source": [
        "`pm.plot_trace()`によりサンプリング結果を可視化します。"
      ]
    },
    {
      "cell_type": "code",
      "metadata": {
        "id": "9AyHC1utIgrI"
      },
      "source": [
        "with model:\n",
        "    pm.plot_trace(trace)"
      ],
      "execution_count": null,
      "outputs": []
    },
    {
      "cell_type": "markdown",
      "source": [
        "片方のボタンがもう片方のボタンに比べてクリック率が高い割合を計算します。"
      ],
      "metadata": {
        "id": "704TrsNmvTer"
      }
    },
    {
      "cell_type": "code",
      "source": [
        "with model:\n",
        "    print((trace[\"theta\"][:, 1] - trace[\"theta\"][:, 0] > 0).mean())"
      ],
      "metadata": {
        "id": "UMSJgjJ6vSMO"
      },
      "execution_count": null,
      "outputs": []
    },
    {
      "cell_type": "markdown",
      "source": [
        "## 解答例\n",
        "以下は解答例です。"
      ],
      "metadata": {
        "id": "Z9sFslMayz4m"
      }
    },
    {
      "cell_type": "code",
      "metadata": {
        "id": "c3_a_spP0s3d"
      },
      "source": [
        "n = (438, 545)  # 宝箱を開けた回数\n",
        "items = (18, 36)  # アイテムA、Bの出現数\n",
        "\n",
        "with pm.Model() as model:\n",
        "    # ------- ここからコードを記述 -------\n",
        "    theta = pm.Uniform(\"theta\", lower=0, upper=1, shape=2)\n",
        "    likefood = pm.Binomial(\"likehood\", p=theta, n=n, observed=items)\n",
        "    trace = pm.sample(4000, chains=2, return_inferencedata=False)\n",
        "    # ------- ここまで ------- "
      ],
      "execution_count": null,
      "outputs": []
    }
  ]
}