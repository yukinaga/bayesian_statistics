{
  "nbformat": 4,
  "nbformat_minor": 0,
  "metadata": {
    "colab": {
      "provenance": [],
      "collapsed_sections": [],
      "authorship_tag": "ABX9TyOBju0Byg4yTZuZIdWnVYEH",
      "include_colab_link": true
    },
    "kernelspec": {
      "name": "python3",
      "display_name": "Python 3"
    },
    "language_info": {
      "name": "python"
    }
  },
  "cells": [
    {
      "cell_type": "markdown",
      "metadata": {
        "id": "view-in-github",
        "colab_type": "text"
      },
      "source": [
        "<a href=\"https://colab.research.google.com/github/yukinaga/bayesian_statistics/blob/main/section_4/03_ab_test.ipynb\" target=\"_parent\"><img src=\"https://colab.research.google.com/assets/colab-badge.svg\" alt=\"Open In Colab\"/></a>"
      ]
    },
    {
      "cell_type": "markdown",
      "metadata": {
        "id": "-1oiRQQbfTsT"
      },
      "source": [
        "# PyMC3によるA/Bテスト\n",
        "PyMC3を使い、A/Bテストの結果を分析します。  \n",
        "ボタンを2種類用意し、ウェブサイト上でランダムに入れ替えます。  \n",
        "どちらのクリック率が高いのか、ベイズ推定を使って分析しましょう。  "
      ]
    },
    {
      "cell_type": "markdown",
      "source": [
        "## pymc3のインストール\n",
        "pymc3をpipによりインストールします。"
      ],
      "metadata": {
        "id": "9_PFpxn3ua0W"
      }
    },
    {
      "cell_type": "code",
      "source": [
        "!pip install pymc3"
      ],
      "metadata": {
        "id": "AJiV0qzIpcXx"
      },
      "execution_count": null,
      "outputs": []
    },
    {
      "cell_type": "markdown",
      "metadata": {
        "id": "zAQEbDh9qlXu"
      },
      "source": [
        "必要な各設定を行います。"
      ]
    },
    {
      "cell_type": "code",
      "metadata": {
        "id": "n09hEfCoIQ7c"
      },
      "source": [
        "import numpy as np\n",
        "from matplotlib import pyplot as plt\n",
        "import pymc3 as pm\n",
        "\n",
        "plt.style.use(\"seaborn-darkgrid\")"
      ],
      "execution_count": null,
      "outputs": []
    },
    {
      "cell_type": "markdown",
      "metadata": {
        "id": "g6IOUB73sNaC"
      },
      "source": [
        "## 統計モデルの構築とサンプリング\n",
        "PyMC3により、「統計モデル」を構築し、事後分布に従ったサンプリングを行います。"
      ]
    },
    {
      "cell_type": "code",
      "metadata": {
        "id": "ekgJSHl4ISw3"
      },
      "source": [
        "n = 50  # ボタンの表示数\n",
        "clicks = 4  # クリック数\n",
        "\n",
        "with pm.Model() as model:\n",
        "    theta = pm.Uniform(\"theta\", lower=0, upper=1)  # 事前分布: 一様分布\n",
        "    likefood = pm.Binomial(\"clicks\", p=theta, n=n, observed=clicks)  # 尤度: 二項分布\n",
        "    trace = pm.sample(4000, chains=2, return_inferencedata=True)  # サンプリング"
      ],
      "execution_count": null,
      "outputs": []
    },
    {
      "cell_type": "markdown",
      "metadata": {
        "id": "ymgNGNuArL4n"
      },
      "source": [
        "`pm.plot_trace()`により、事後分布からサンプリングした結果を可視化することができます。"
      ]
    },
    {
      "cell_type": "code",
      "metadata": {
        "id": "x6PFTRO9IXR4"
      },
      "source": [
        "with model:\n",
        "    pm.plot_trace(trace)"
      ],
      "execution_count": null,
      "outputs": []
    },
    {
      "cell_type": "markdown",
      "source": [
        "`pm.summary()`によるモデルの概要を表示することができます。  \n",
        "`hdi_prob=0.95`と記述すると、確率が上位95%の区間が表示されます。"
      ],
      "metadata": {
        "id": "x9JxvkbjFrdI"
      }
    },
    {
      "cell_type": "code",
      "metadata": {
        "id": "Tjd0KInAIZN3"
      },
      "source": [
        "with model:\n",
        "    print(pm.summary(trace, hdi_prob=0.95))"
      ],
      "execution_count": null,
      "outputs": []
    },
    {
      "cell_type": "markdown",
      "metadata": {
        "id": "Vs1EEoNQrHPG"
      },
      "source": [
        "## 事後分布の表示\n",
        "`plot_posterior`により、PyMC3によって推論された事後分布がグラフで表示されます。"
      ]
    },
    {
      "cell_type": "code",
      "metadata": {
        "id": "SccovuklIbDh"
      },
      "source": [
        "with model:\n",
        "    pm.plot_posterior(trace, hdi_prob=0.95)"
      ],
      "execution_count": null,
      "outputs": []
    },
    {
      "cell_type": "markdown",
      "source": [
        "## A/Bテスト\n",
        "PyMC3では、複数のデータのグループで同時に統計モデルの構築、サンプリングを行うことができます。  \n",
        "これを利用し、2種類のボタンでA/Bテストを行います。"
      ],
      "metadata": {
        "id": "PWmeakAQJWC1"
      }
    },
    {
      "cell_type": "code",
      "metadata": {
        "id": "TF-ErYFGIe1J"
      },
      "source": [
        "n = (30, 50)  # ボタンの表示数\n",
        "clicks = (2, 5)  # クリック数\n",
        "\n",
        "with pm.Model() as model:\n",
        "    theta = pm.Uniform(\"theta\", lower=0, upper=1, shape=2)\n",
        "    likefood = pm.Binomial(\"likefood\", p=theta, n=n, observed=clicks)\n",
        "    trace = pm.sample(4000, chains=2)"
      ],
      "execution_count": null,
      "outputs": []
    },
    {
      "cell_type": "markdown",
      "metadata": {
        "id": "ei1wQAyTr1lc"
      },
      "source": [
        "`pm.plot_trace()`によりサンプリング結果を可視化します。"
      ]
    },
    {
      "cell_type": "code",
      "metadata": {
        "id": "9AyHC1utIgrI"
      },
      "source": [
        "with model:\n",
        "    pm.plot_trace(trace)"
      ],
      "execution_count": null,
      "outputs": []
    },
    {
      "cell_type": "markdown",
      "source": [
        "この場合、2つのボタンに大きなクリック率の違いはありません。  \n",
        "次に、試行数を増やします。  "
      ],
      "metadata": {
        "id": "pY8qnTo7qZpO"
      }
    },
    {
      "cell_type": "code",
      "metadata": {
        "id": "hrbVRCJ6InSI"
      },
      "source": [
        "n = (1500, 2100)  # ボタンの表示数\n",
        "clicks = (98, 189)  # クリック数\n",
        "\n",
        "with pm.Model() as model:\n",
        "    theta = pm.Uniform(\"theta\", lower=0, upper=1, shape=2)\n",
        "    obs = pm.Binomial(\"likefood\", p=theta, n=n, observed=clicks)\n",
        "    trace = pm.sample(4000, chains=2)"
      ],
      "execution_count": null,
      "outputs": []
    },
    {
      "cell_type": "markdown",
      "metadata": {
        "id": "_F1Y-7BGNQ-A"
      },
      "source": [
        "`pm.plot_trace()`によりサンプリング結果を可視化します。"
      ]
    },
    {
      "cell_type": "code",
      "metadata": {
        "id": "V8s_DJGNNQ-A"
      },
      "source": [
        "with model:\n",
        "    pm.plot_trace(trace)"
      ],
      "execution_count": null,
      "outputs": []
    },
    {
      "cell_type": "markdown",
      "source": [
        "2つのボタンに明らかなクリック率の違いが確認できます。  \n",
        "試行数を増やすことで分布はシャープになり、その結果クリック率の違いが明瞭になりました。"
      ],
      "metadata": {
        "id": "HFHFt3TUrDUA"
      }
    }
  ]
}