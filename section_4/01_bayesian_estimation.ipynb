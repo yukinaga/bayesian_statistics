{
  "nbformat": 4,
  "nbformat_minor": 0,
  "metadata": {
    "colab": {
      "provenance": [],
      "collapsed_sections": [],
      "authorship_tag": "ABX9TyOmxWq1fpncrziu5YoKeO/K",
      "include_colab_link": true
    },
    "kernelspec": {
      "name": "python3",
      "display_name": "Python 3"
    },
    "language_info": {
      "name": "python"
    }
  },
  "cells": [
    {
      "cell_type": "markdown",
      "metadata": {
        "id": "view-in-github",
        "colab_type": "text"
      },
      "source": [
        "<a href=\"https://colab.research.google.com/github/yukinaga/bayesian_statistics/blob/main/section_4/01_bayesian_estimation.ipynb\" target=\"_parent\"><img src=\"https://colab.research.google.com/assets/colab-badge.svg\" alt=\"Open In Colab\"/></a>"
      ]
    },
    {
      "cell_type": "markdown",
      "source": [
        "# ベイズ推定の実装\n",
        "ベイズ推定をPythonのコードで実装しましょう。  \n",
        "例として、あるウェブサイトにおけるボタンのクリック率を、分布として推定します。  "
      ],
      "metadata": {
        "id": "BIvui-Y2tUTk"
      }
    },
    {
      "cell_type": "markdown",
      "source": [
        "## ベイズの定理と確率分布\n",
        "ベイズの定理を確率分布に適用します。  \n",
        "\n",
        "$$p(\\theta\\mid r) = \\frac{p(r\\mid\\theta)p(\\theta)}{p(r)}$$\n",
        "\n",
        "この式において、$\\theta$は確率分布のパラメータ、$r$は得られたデータです。  \n",
        "$p(\\theta)$は事前分布、$p(\\theta\\mid r)$が事後分布、$p(r\\mid\\theta)$は尤度（尤度関数）と呼ばれます。  \n",
        "$p(r)$は「正規化定数」などと呼ばれますが、$\\theta$を含まない定数となります。  \n",
        "$p(r)$は事後分布$p(\\theta\\mid r)$の値を0から1の範囲に納め、合計1にする、いわゆる「正規化」の役割を担います。  "
      ],
      "metadata": {
        "id": "PNFbTUOLUOru"
      }
    },
    {
      "cell_type": "markdown",
      "source": [
        "## ベルヌーイ分布\n",
        "\n",
        "あるウェブサイトにボタンを配置します。  \n",
        "このボタンがクリックされる確率を$\\theta$、クリックされることを1、クリックされないことを0とすると、条件付き確率を以下のように表すことができます。  \n",
        "\n",
        "$$p(r=1\\mid\\theta)=\\theta$$\n",
        "$$p(r=0\\mid\\theta)=1-\\theta$$\n",
        "\n",
        "これらの式は、以下の表にまとめることができます。  \n",
        "\n",
        "$$p(r\\mid\\theta)=\\theta^{r}(1-\\theta)^{1-r}$$\n",
        "\n",
        "この確率分布は、「ベルヌーイ分布」（Bernoulli distribution）と呼ばれます。  \n",
        "ベルヌーイ分布におけるパラメータ$\\theta$は、クリックされる確率なので0から1までの範囲をとります。  \n",
        "今回は、このベルヌーイ分布を尤度として使います。  "
      ],
      "metadata": {
        "id": "rSZ24IGxPOs1"
      }
    },
    {
      "cell_type": "markdown",
      "source": [
        "## 事前分布の用意\n",
        "今回は、ベイズ推定により、事後分布$p(\\theta\\mid r)$を推定します。  \n",
        "まずは、事前分布$p(\\theta)$を用意します。  \n",
        "今回は、全く手がかりが無いので確率変数によらず確率の値が一定な、一様分布を事前分布に使います。  "
      ],
      "metadata": {
        "id": "0ORHz7Dw96Qr"
      }
    },
    {
      "cell_type": "code",
      "metadata": {
        "id": "zwuDAt6WbQkz"
      },
      "source": [
        "import numpy as np\n",
        "\n",
        "thetas = np.linspace(0, 1, 500)  # パラメータ: 0から1の範囲\n",
        "p = np.ones(len(thetas)) / len(thetas)  # 事前確率の分布: 一様分布\n",
        "print(p)"
      ],
      "execution_count": null,
      "outputs": []
    },
    {
      "cell_type": "markdown",
      "source": [
        "## 尤度を計算する関数\n",
        "ベイズの定理における尤度$p(r\\mid\\theta)$を計算するための関数を用意します。  \n",
        "今回は試行が一回のみのため、尤度はベルヌーイ分布で表すことができます。  "
      ],
      "metadata": {
        "id": "0Vd9PpMw4ZqA"
      }
    },
    {
      "cell_type": "code",
      "metadata": {
        "id": "jObYAviWbMpW"
      },
      "source": [
        "def likehood(r):\n",
        "    # ベルヌーイ分布\n",
        "    if r==1:  # クリックされた場合\n",
        "        return thetas\n",
        "    else:  # クリックされなかった場合\n",
        "        return 1-thetas"
      ],
      "execution_count": null,
      "outputs": []
    },
    {
      "cell_type": "markdown",
      "source": [
        "## 事後分布を計算する関数\n",
        "事後分布$p(\\theta\\mid r)$を計算するための関数を設定します。  \n",
        "事前確率と尤度の積をとり、正規化定数$p(r)$で割ります。  \n",
        "正規化定数は積分により数式の形で表せる場合もあるのですが、一般的に数式の形を求めるのは難しいです。    \n",
        "従って、今回は事前確率と尤度の積を、その総和で割ることで正規化することにします。  "
      ],
      "metadata": {
        "id": "vxmoKBAM6bV2"
      }
    },
    {
      "cell_type": "code",
      "metadata": {
        "id": "zDd4GDxpbOsp"
      },
      "source": [
        "def posterior(r, prior):\n",
        "    lipr = prior * likehood(r)  # 事前確率と尤度の積\n",
        "    return lipr / lipr.sum()  # 正規化: 事後分布の値を0から1の範囲に納め、合計1に"
      ],
      "execution_count": null,
      "outputs": []
    },
    {
      "cell_type": "markdown",
      "source": [
        "## 事後分布の計算\n",
        "まずは、1回ボタンを表示して、クリックされた場合の事後分布を計算します。  \n",
        "先ほど設定した`posterior()`関数に、クリックされたことを表す1と事前分布を渡します。  "
      ],
      "metadata": {
        "id": "9kp22FbP8zJM"
      }
    },
    {
      "cell_type": "code",
      "metadata": {
        "id": "QYn1BHDJbS22"
      },
      "source": [
        "p = posterior(1, p)  # 事後分布の計算: クリックした場合\n",
        "print(p)"
      ],
      "execution_count": null,
      "outputs": []
    },
    {
      "cell_type": "markdown",
      "metadata": {
        "id": "Q5GKVCfzby5V"
      },
      "source": [
        "## 事後分布の可視化\n",
        "Matplotlibを使い、事後分布を可視化します。  "
      ]
    },
    {
      "cell_type": "code",
      "metadata": {
        "id": "QNQRDlI2bVxh"
      },
      "source": [
        "import matplotlib.pyplot as plt\n",
        "\n",
        "plt.style.use(\"seaborn-darkgrid\")\n",
        "\n",
        "plt.plot(thetas, p)\n",
        "plt.xlabel(r\"$\\theta$\")\n",
        "plt.ylabel(r\"$p(\\theta)$\")\n",
        "plt.show()"
      ],
      "execution_count": null,
      "outputs": []
    },
    {
      "cell_type": "markdown",
      "source": [
        "まだ一回しかボタンが表示されていないので、分布は直線上になります。"
      ],
      "metadata": {
        "id": "upR92ib5dtID"
      }
    },
    {
      "cell_type": "markdown",
      "source": [
        "## ベイズ更新\n",
        "1回の結果が得られる度に、事後分布を更新します。  \n",
        "ボタンが合計20回表示され、2回クリックされた後の事後分布を計算し視覚化します。"
      ],
      "metadata": {
        "id": "E_Gk3IGKClHH"
      }
    },
    {
      "cell_type": "code",
      "metadata": {
        "id": "0QtOiqgzbacq"
      },
      "source": [
        "n = 20  # ボタンの表示数\n",
        "clicks = 2  # クリック数\n",
        "\n",
        "p = np.ones(len(thetas)) / len(thetas)  # 事前分布\n",
        "\n",
        "# クリックした場合\n",
        "for i in range(clicks):\n",
        "    p = posterior(1, p)  # 1: クリックした\n",
        "\n",
        "# クリックしなかった場合\n",
        "for i in range(n-clicks):\n",
        "    p = posterior(0, p)  # 0: クリックしなかった\n",
        "\n",
        "plt.plot(thetas, p)\n",
        "plt.xlabel(r\"$\\theta$\")\n",
        "plt.ylabel(r\"$p(\\theta)$\")\n",
        "plt.show()"
      ],
      "execution_count": null,
      "outputs": []
    },
    {
      "cell_type": "markdown",
      "metadata": {
        "id": "3A3fEFgJbqoR"
      },
      "source": [
        "確率分布にピークが出現しました。  \n",
        "データのクリック率は10％ですが、その付近が頂点となっています。  "
      ]
    },
    {
      "cell_type": "markdown",
      "source": [
        "試行を重ねると、どのように分布が変化するのか確認しましょう。  "
      ],
      "metadata": {
        "id": "CEcrIUbsfLNB"
      }
    },
    {
      "cell_type": "code",
      "metadata": {
        "id": "wJEggFa4bkbg"
      },
      "source": [
        "def show_posterior(clicks, n):\n",
        "    p = np.ones(len(thetas)) / len(thetas)  # 事前分布\n",
        "    for i in range(clicks):\n",
        "        p = posterior(1, p)  # 1: クリックした\n",
        "    for i in range(n-clicks):\n",
        "        p = posterior(0, p)  # 0: クリックしなかった\n",
        "    plt.plot(thetas, p, label=str(clicks)+\"/\"+str(n))\n",
        "\n",
        "show_posterior(1, 5)\n",
        "show_posterior(2, 20)\n",
        "show_posterior(5, 100)\n",
        "\n",
        "plt.xlim(0, 0.5)\n",
        "plt.xlabel(r\"$\\theta$\")\n",
        "plt.ylabel(r\"$p(\\theta)$\")\n",
        "plt.legend()\n",
        "plt.show()"
      ],
      "execution_count": null,
      "outputs": []
    },
    {
      "cell_type": "markdown",
      "source": [
        "試行回数が増えると、次第に分布の裾野が狭くなり推定の精度が向上することを確認できます。"
      ],
      "metadata": {
        "id": "49INDpfwfW5w"
      }
    }
  ]
}