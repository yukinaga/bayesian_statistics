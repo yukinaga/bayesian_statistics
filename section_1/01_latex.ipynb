{
  "nbformat": 4,
  "nbformat_minor": 0,
  "metadata": {
    "colab": {
      "provenance": [],
      "authorship_tag": "ABX9TyOWG+kWO0O2FyWPbioM4GED",
      "include_colab_link": true
    },
    "kernelspec": {
      "name": "python3",
      "display_name": "Python 3"
    },
    "language_info": {
      "name": "python"
    }
  },
  "cells": [
    {
      "cell_type": "markdown",
      "metadata": {
        "id": "view-in-github",
        "colab_type": "text"
      },
      "source": [
        "<a href=\"https://colab.research.google.com/github/yukinaga/bayesian_statistics/blob/main/section_1/01_latex.ipynb\" target=\"_parent\"><img src=\"https://colab.research.google.com/assets/colab-badge.svg\" alt=\"Open In Colab\"/></a>"
      ]
    },
    {
      "cell_type": "markdown",
      "source": [
        "# LaTeXの基礎\n",
        "LaTeXを使い、数式をコードで記述する方法を学びます。"
      ],
      "metadata": {
        "id": "TZ8c1fJqTs-D"
      }
    }
  ]
}