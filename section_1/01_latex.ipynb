{
  "nbformat": 4,
  "nbformat_minor": 0,
  "metadata": {
    "colab": {
      "provenance": [],
      "authorship_tag": "ABX9TyMzGQb+t8mTsXXBE5L7OsIZ",
      "include_colab_link": true
    },
    "kernelspec": {
      "name": "python3",
      "display_name": "Python 3"
    },
    "language_info": {
      "name": "python"
    }
  },
  "cells": [
    {
      "cell_type": "markdown",
      "metadata": {
        "id": "view-in-github",
        "colab_type": "text"
      },
      "source": [
        "<a href=\"https://colab.research.google.com/github/yukinaga/bayesian_statistics/blob/main/section_1/01_latex.ipynb\" target=\"_parent\"><img src=\"https://colab.research.google.com/assets/colab-badge.svg\" alt=\"Open In Colab\"/></a>"
      ]
    },
    {
      "cell_type": "markdown",
      "source": [
        "# LaTeXの基礎\n",
        "LaTeXを使い、数式をコードで記述する方法を学びます。"
      ],
      "metadata": {
        "id": "TZ8c1fJqTs-D"
      }
    },
    {
      "cell_type": "markdown",
      "source": [
        "### LaTeXとは？\n",
        "\n",
        "Google Colaboratoryのテキストセルには、LaTeXという文書処理システムを使って数式を記述することができます。  \n",
        "以下の数式は、LaTeXを使って記述されています。  \n",
        "\n",
        "$$y=2x+1$$\n",
        "\n",
        "このセルをダブルクリックして編集モードにし、LaTeXによる記述を確かめてみましょう。  \n",
        "このように、二重の`$`の中に数式を表すLaTeXのコードを記述します。  \n",
        "\n",
        "また、このように→$y=2x+1$、文章の中に数式を記述することも可能です。  \n",
        "この場合は一重の`$`の中にコードを記述します。"
      ],
      "metadata": {
        "id": "Jih2Zpj6UAXa"
      }
    },
    {
      "cell_type": "markdown",
      "source": [
        "LaTeXには他にも様々な記法があります。  "
      ],
      "metadata": {
        "id": "ZbhHhN2gUTif"
      }
    }
  ]
}