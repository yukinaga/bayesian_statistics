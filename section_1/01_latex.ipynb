{
  "nbformat": 4,
  "nbformat_minor": 0,
  "metadata": {
    "colab": {
      "provenance": [],
      "authorship_tag": "ABX9TyM1Eo+QVv217ZEjhTeKooXB",
      "include_colab_link": true
    },
    "kernelspec": {
      "name": "python3",
      "display_name": "Python 3"
    },
    "language_info": {
      "name": "python"
    }
  },
  "cells": [
    {
      "cell_type": "markdown",
      "metadata": {
        "id": "view-in-github",
        "colab_type": "text"
      },
      "source": [
        "<a href=\"https://colab.research.google.com/github/yukinaga/bayesian_statistics/blob/main/section_1/01_latex.ipynb\" target=\"_parent\"><img src=\"https://colab.research.google.com/assets/colab-badge.svg\" alt=\"Open In Colab\"/></a>"
      ]
    },
    {
      "cell_type": "markdown",
      "source": [
        "# LaTeXの基礎\n",
        "LaTeXを使い、数式をコードで記述する方法を学びます。"
      ],
      "metadata": {
        "id": "TZ8c1fJqTs-D"
      }
    },
    {
      "cell_type": "markdown",
      "source": [
        "### 様々な数式の記述\n",
        "LaTeXにより、様々な数式を記述することができます。  \n",
        "このセルをダブルクリックしてLaTeXのコードを確認しましょう。  \n",
        "\n",
        "---添字と累乗---\n",
        "$$a_1, a_{ij}, b^2, b^{ij}, c_1^2$$\n",
        "\n",
        "---多項式---\n",
        "$$y=x^3+2x^2+x+3$$\n",
        "\n",
        "---平方根---\n",
        "$$y=\\sqrt x$$\n",
        "\n",
        "---三角関数---\n",
        "$$y=\\sin x$$\n",
        "\n",
        "---分数---\n",
        "$$y=\\frac{17}{24}$$\n",
        "\n",
        "---総和---\n",
        "$$y=\\sum_{k=1}^n a_k$$\n",
        "\n",
        "---総乗---\n",
        "$$y=\\prod_{k=1}^n a_k$$\n",
        "\n",
        "---行列---\n",
        "$$\\begin{pmatrix}\n",
        "   a & b \\\\\n",
        "   c & d\n",
        "\\end{pmatrix}$$"
      ],
      "metadata": {
        "id": "uvNfjRqBURRi"
      }
    },
    {
      "cell_type": "markdown",
      "source": [
        "LaTeXには他にも様々な記法があります。  "
      ],
      "metadata": {
        "id": "ZbhHhN2gUTif"
      }
    }
  ]
}