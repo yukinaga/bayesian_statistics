{
  "nbformat": 4,
  "nbformat_minor": 0,
  "metadata": {
    "colab": {
      "provenance": [],
      "authorship_tag": "ABX9TyPaqAdEmtiLBymKCRMRfrZA",
      "include_colab_link": true
    },
    "kernelspec": {
      "name": "python3",
      "display_name": "Python 3"
    },
    "language_info": {
      "name": "python"
    }
  },
  "cells": [
    {
      "cell_type": "markdown",
      "metadata": {
        "id": "view-in-github",
        "colab_type": "text"
      },
      "source": [
        "<a href=\"https://colab.research.google.com/github/yukinaga/bayesian_statistics/blob/main/section_1/02_exercise.ipynb\" target=\"_parent\"><img src=\"https://colab.research.google.com/assets/colab-badge.svg\" alt=\"Open In Colab\"/></a>"
      ]
    },
    {
      "cell_type": "markdown",
      "source": [
        "# 演習\n",
        "「LaTeX」を使った数式の記述にトライしましょう。"
      ],
      "metadata": {
        "id": "QXwpheqAHSsk"
      }
    },
    {
      "cell_type": "markdown",
      "metadata": {
        "id": "ZSepDuPzgUsh"
      },
      "source": [
        "## LaTeXのコードを記述\n",
        "以下の数式を、一つ下のテキストセルにLaTeXで記述してみましょう。\n",
        "\n",
        "$$y=x^3 + \\sqrt x + \\frac{a_{ij}}{b_{ij}^4} - \\sum_{k=1}^n a_k$$"
      ]
    },
    {
      "cell_type": "markdown",
      "metadata": {
        "id": "SpYvPGrsggh3"
      },
      "source": [
        "（このテキストセルにLaTeXのコードを記述）"
      ]
    },
    {
      "cell_type": "markdown",
      "source": [
        "## 解答例\n",
        "数式のセルをダブルクリックすると、LaTeXのコードを見ることができます。"
      ],
      "metadata": {
        "id": "JCv_w1GVedXy"
      }
    },
    {
      "cell_type": "code",
      "source": [],
      "metadata": {
        "id": "utWKHjzkhr1V"
      },
      "execution_count": null,
      "outputs": []
    }
  ]
}