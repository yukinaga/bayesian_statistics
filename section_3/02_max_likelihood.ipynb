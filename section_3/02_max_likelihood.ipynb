{
  "nbformat": 4,
  "nbformat_minor": 0,
  "metadata": {
    "colab": {
      "provenance": [],
      "collapsed_sections": [],
      "authorship_tag": "ABX9TyMIGAM66Fhu/3GP8MKXpt8m",
      "include_colab_link": true
    },
    "kernelspec": {
      "name": "python3",
      "display_name": "Python 3"
    },
    "language_info": {
      "name": "python"
    }
  },
  "cells": [
    {
      "cell_type": "markdown",
      "metadata": {
        "id": "view-in-github",
        "colab_type": "text"
      },
      "source": [
        "<a href=\"https://colab.research.google.com/github/yukinaga/bayesian_statistics/blob/main/section_3/02_max_likelihood.ipynb\" target=\"_parent\"><img src=\"https://colab.research.google.com/assets/colab-badge.svg\" alt=\"Open In Colab\"/></a>"
      ]
    },
    {
      "cell_type": "markdown",
      "source": [
        "# 最尤推定\n",
        "データから尤度が最大になる確率分布のパラメータを求めることを「最尤推定」といいます。  \n",
        "今回は、最尤推定のイメージをPythonのコードと共に学びます。"
      ],
      "metadata": {
        "id": "gX_gIEU3aqr_"
      }
    },
    {
      "cell_type": "markdown",
      "metadata": {
        "id": "zhVnFrTiXPSe"
      },
      "source": [
        "## 尤度とパラメータ\n",
        "グラフを使って、正規分布を想定した際の尤度の最大値を確認します。  \n",
        "以下のコードでは、平均値を固定して標準偏差を変化させた場合の、対数尤度の変化をグラフに表示します。  \n",
        "Section2で解説しましたが、対数尤度は以下の式で表されます。   \n",
        " $$\\log{L} = \\sum_{k=1}^n \\log p(x_k)$$  \n",
        " $\\mu$は平均値で、$\\sigma$は標準偏差です。 "
      ]
    },
    {
      "cell_type": "code",
      "execution_count": null,
      "metadata": {
        "id": "VEly0MhtXPSe"
      },
      "outputs": [],
      "source": [
        "import numpy as np\n",
        "import matplotlib.pyplot as plt\n",
        "\n",
        "x_data = np.array([1.2, 2.3, 4.5, 1.9, 3.7])  # データ\n",
        " \n",
        "mu = np.average(x_data)  # 平均値\n",
        "sigma = np.std(x_data)  # 標準偏差\n",
        "\n",
        "def pdf(x, mu, sigma):  # 確率密度関数\n",
        "    return 1/(sigma*np.sqrt(2*np.pi))*np.exp(-(x-mu)**2 / (2*sigma**2))\n",
        "\n",
        "def log_likelihood(p):  # 対数尤度\n",
        "    return np.sum(np.log(p))\n",
        "\n",
        "x_sigma = np.linspace(0.5, 8)   # 横軸: 標準偏差を0.5から8まで変化させる\n",
        "y_loglike = []  # 縦軸: 対数尤度\n",
        "\n",
        "for s in x_sigma:\n",
        "    log_like = log_likelihood(pdf(x_data, mu, s))\n",
        "    y_loglike.append(log_like)  # 対数尤度を縦軸に追加\n",
        "\n",
        "plt.plot(x_sigma, np.array(y_loglike))\n",
        "plt.plot([sigma, sigma], [min(y_loglike), max(y_loglike)], linestyle=\"dashed\")  # データの標準偏差の位置に縦線を引く\n",
        "          \n",
        "plt.xlabel(\"x_sigma\", size=14)\n",
        "plt.ylabel(\"y_loglike\", size=14)\n",
        "plt.grid()\n",
        "\n",
        "plt.show()"
      ]
    },
    {
      "cell_type": "markdown",
      "metadata": {
        "id": "3TvTQ3sRXPSe"
      },
      "source": [
        "上記のグラフで、横軸が標準偏差で縦軸が対数尤度で、点線はデータの標準偏差を表します。  \n",
        "正規分布の標準偏差により対数尤度が滑らかに変化する様子を見ることができます。  \n",
        "\n",
        "点線はデータの標準偏差を表しますが、このとき縦軸の対数尤度は最大になっていることが確認できます。  \n",
        "対数尤度が最大であることは、尤度が最大であることを意味します。   \n",
        "このような最尤推定により、データから最も妥当性の高い確率分布のパラメータを推定することができます。"
      ]
    }
  ]
}