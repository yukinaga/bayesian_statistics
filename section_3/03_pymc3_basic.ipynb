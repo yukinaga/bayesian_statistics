{
  "nbformat": 4,
  "nbformat_minor": 0,
  "metadata": {
    "colab": {
      "provenance": [],
      "authorship_tag": "ABX9TyMS6BJsJq8ar38XebiGHwfN",
      "include_colab_link": true
    },
    "kernelspec": {
      "name": "python3",
      "display_name": "Python 3"
    },
    "language_info": {
      "name": "python"
    }
  },
  "cells": [
    {
      "cell_type": "markdown",
      "metadata": {
        "id": "view-in-github",
        "colab_type": "text"
      },
      "source": [
        "<a href=\"https://colab.research.google.com/github/yukinaga/bayesian_statistics/blob/main/section_3/03_pymc3_basic.ipynb\" target=\"_parent\"><img src=\"https://colab.research.google.com/assets/colab-badge.svg\" alt=\"Open In Colab\"/></a>"
      ]
    },
    {
      "cell_type": "markdown",
      "metadata": {
        "id": "-1oiRQQbfTsT"
      },
      "source": [
        "# PyMC3の基礎\n",
        "ベイズ統計モデリングと確率的機械学習のためのPythonパッケージ、「PyMC3」の使い方を学びましょう。"
      ]
    },
    {
      "cell_type": "markdown",
      "source": [
        "## pymc3のインストール\n",
        "pymc3をpipによりインストールします。"
      ],
      "metadata": {
        "id": "9_PFpxn3ua0W"
      }
    },
    {
      "cell_type": "code",
      "source": [
        "!pip install pymc"
      ],
      "metadata": {
        "id": "AJiV0qzIpcXx"
      },
      "execution_count": null,
      "outputs": []
    },
    {
      "cell_type": "markdown",
      "source": [
        "PyMC3をインポートし、バージョンを確認します。"
      ],
      "metadata": {
        "id": "p8QP9P5nvUuM"
      }
    },
    {
      "cell_type": "code",
      "execution_count": null,
      "metadata": {
        "id": "dWvljs1qRCRF"
      },
      "outputs": [],
      "source": [
        "import pymc as pm\n",
        "\n",
        "print(pm.__version__)"
      ]
    },
    {
      "cell_type": "markdown",
      "metadata": {
        "id": "zWxfLeaeRCRG"
      },
      "source": [
        "## 確率分布\n",
        "使用できる確率分布クラスの一覧を取得します。\n",
        "Pythonでは、`dir()`により変数や関数（属性）の一覧を取得することができます。\n"
      ]
    },
    {
      "cell_type": "code",
      "execution_count": null,
      "metadata": {
        "id": "E40kAJYZRCRG"
      },
      "outputs": [],
      "source": [
        "dir(pm.distributions)"
      ]
    },
    {
      "cell_type": "markdown",
      "metadata": {
        "id": "tQSnWuYERCRG"
      },
      "source": [
        "正規分布のオブジェクトを作成します。"
      ]
    },
    {
      "cell_type": "code",
      "execution_count": null,
      "metadata": {
        "id": "25kvBTUERCRG"
      },
      "outputs": [],
      "source": [
        "mu = 2  # 平均値\n",
        "sigma = 1  # 標準偏差\n",
        "\n",
        "dist = pm.Normal.dist(mu=mu, sigma=sigma)  # 正規分布のオブジェクト\n",
        "dist"
      ]
    },
    {
      "cell_type": "markdown",
      "metadata": {
        "id": "6QbXYVkIRCRH"
      },
      "source": [
        "正規分布に従う乱数を生成します。\n"
      ]
    },
    {
      "cell_type": "code",
      "execution_count": null,
      "metadata": {
        "id": "1HO1JvGLRCRH"
      },
      "outputs": [],
      "source": [
        "pm.draw(dist, draws=10)  # 乱数を10生成"
      ]
    },
    {
      "cell_type": "markdown",
      "metadata": {
        "id": "-1L0Us4VRCRH"
      },
      "source": [
        "## 統計モデルの作成\n",
        "`with`構文の中に記述した分布のオブジェクトは、統計モデルのオブジェクトと紐付きます。"
      ]
    },
    {
      "cell_type": "code",
      "execution_count": null,
      "metadata": {
        "id": "dBxGDlkvRCRH"
      },
      "outputs": [],
      "source": [
        "with pm.Model() as model:  # model: 統計モデルのオブジェクト\n",
        "    pm.Normal(\"x\", mu=mu, sigma=sigma)"
      ]
    },
    {
      "cell_type": "markdown",
      "metadata": {
        "id": "7BDuUZjXRCRH"
      },
      "source": [
        "統計モデルの数式を確認します。\n",
        "\n"
      ]
    },
    {
      "cell_type": "code",
      "execution_count": null,
      "metadata": {
        "id": "dSrg9kllRCRH"
      },
      "outputs": [],
      "source": [
        "model"
      ]
    },
    {
      "cell_type": "markdown",
      "metadata": {
        "id": "_fHNQtVtRCRH"
      },
      "source": [
        "統計モデルから乱数を生成します。\n",
        "`with`構文でモデルを指定し、`pm.sample()`関数によりサンプリング結果を生成します。"
      ]
    },
    {
      "cell_type": "code",
      "execution_count": null,
      "metadata": {
        "id": "GSz_hkJwRCRH"
      },
      "outputs": [],
      "source": [
        "with model:\n",
        "    trace = pm.sample()"
      ]
    },
    {
      "cell_type": "markdown",
      "metadata": {
        "id": "kYoC9AHlRCRH"
      },
      "source": [
        "統計モデルにより生成された乱数を確認します。\n"
      ]
    },
    {
      "cell_type": "code",
      "source": [
        "trace.posterior[\"x\"]"
      ],
      "metadata": {
        "id": "EgfEWSy8V_b3"
      },
      "execution_count": null,
      "outputs": []
    },
    {
      "cell_type": "markdown",
      "source": [
        "乱数の形状を確認します。"
      ],
      "metadata": {
        "id": "TaRzXW6j9t57"
      }
    },
    {
      "cell_type": "code",
      "source": [
        "trace.posterior[\"x\"].shape  # 乱数の形状"
      ],
      "metadata": {
        "id": "L8rtBsuT9s92"
      },
      "execution_count": null,
      "outputs": []
    },
    {
      "cell_type": "markdown",
      "metadata": {
        "id": "7zeTmRDoRCRI"
      },
      "source": [
        "## 分布のグラフ表示\n",
        "seabornを使い、サンプリング結果をグラフで表示します。\n",
        "\n",
        "\n",
        "\n"
      ]
    },
    {
      "cell_type": "code",
      "execution_count": null,
      "metadata": {
        "id": "pGCUrn3cRCRI"
      },
      "outputs": [],
      "source": [
        "import seaborn as sns\n",
        "\n",
        "sns.histplot(trace.posterior[\"x\"][0],\n",
        "             stat=\"count\",  # 縦軸は出現回数\n",
        "             kde=True)  # 曲線の表示（kernel density estimation）"
      ]
    },
    {
      "cell_type": "markdown",
      "metadata": {
        "id": "SG8S1fy0RCRH"
      },
      "source": [
        "##  データフレームへの変換\n",
        "`pm.trace_to_dataframe()`関数により、サンプリング結果をpandasのデータフレームに変換することができます。\n"
      ]
    },
    {
      "cell_type": "code",
      "source": [
        "df = trace.posterior.to_dataframe()  # データフレームに変換\n",
        "print(type(df))\n",
        "df"
      ],
      "metadata": {
        "id": "ZD6-zw1ob_nG"
      },
      "execution_count": null,
      "outputs": []
    }
  ]
}