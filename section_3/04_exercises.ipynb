{
  "nbformat": 4,
  "nbformat_minor": 0,
  "metadata": {
    "colab": {
      "provenance": [],
      "authorship_tag": "ABX9TyNqj8shtHbdfK0Khvjn/xQb",
      "include_colab_link": true
    },
    "kernelspec": {
      "name": "python3",
      "display_name": "Python 3"
    },
    "language_info": {
      "name": "python"
    }
  },
  "cells": [
    {
      "cell_type": "markdown",
      "metadata": {
        "id": "view-in-github",
        "colab_type": "text"
      },
      "source": [
        "<a href=\"https://colab.research.google.com/github/yukinaga/bayesian_statistics/blob/main/section_3/04_exercises.ipynb\" target=\"_parent\"><img src=\"https://colab.research.google.com/assets/colab-badge.svg\" alt=\"Open In Colab\"/></a>"
      ]
    },
    {
      "cell_type": "markdown",
      "source": [
        "# 演習\n",
        "条件付き確率を実際に使い、計算を行いましょう。  \n",
        "答えは紙に書いても、テキストセルにLaTeXで書いても構いません。"
      ],
      "metadata": {
        "id": "kkc1c5-2ItcF"
      }
    },
    {
      "cell_type": "markdown",
      "metadata": {
        "id": "cEglMElvIRdd"
      },
      "source": [
        "## 条件付き確率による計算\n",
        "袋の中に白い玉と黒い玉が3つずつ入っています。  \n",
        "白い球のうち2つには0という数字が、1つには1という数字が書かれています。  \n",
        "黒い球のうち1つには0という数字が、2つには1という数字が書かれています。  \n",
        "\n",
        "この袋から球を1つ取り出したら、白い球でした。  \n",
        "この球の番号が0である確率を求めましょう。  "
      ]
    },
    {
      "cell_type": "markdown",
      "metadata": {
        "id": "h_izV_U6IRde"
      },
      "source": [
        "## 解答例\n",
        "以下は解答例です。  \n",
        "どうしてもわからない時のみ、参考にしましょう。"
      ]
    },
    {
      "cell_type": "markdown",
      "metadata": {
        "id": "isjlluK7IRde"
      },
      "source": [
        "$P(A|B)$において、AとBを次のように設定します。\n",
        "A: 番号が0である\n",
        "B: 白い球である\n",
        "\n",
        "ここで、以下の式により条件付き確率を求めます。\n",
        "\n",
        "$$P(A|B) = \\frac{P(A \\cap B)}{P(B)}$$\n",
        "\n",
        "右辺における$P(B)$は、白い球である確率なので次のように求めることができます。\n",
        "\n",
        "$$P(B) = \\frac{3}{6} = \\frac{1}{2}$$\n",
        "\n",
        "また、$P(A \\cap B)$は袋の中に6個の球があり、白くて番号が0の球は2個なので次のようにして求めることができます。\n",
        "\n",
        "$$P(A \\cap B) = \\frac{2}{6} = \\frac{1}{3}$$\n",
        "\n",
        "従って、条件付き確率は次のように求めることができます。\n",
        "\n",
        "$$P(A|B) = \\frac{P(A \\cap B)}{P(B)} = \\frac{\\frac{1}{3}}{\\frac{1}{2}} = \\frac{2}{3}$$"
      ]
    },
    {
      "cell_type": "code",
      "source": [],
      "metadata": {
        "id": "nUH9Djk5pjHO"
      },
      "execution_count": null,
      "outputs": []
    }
  ]
}