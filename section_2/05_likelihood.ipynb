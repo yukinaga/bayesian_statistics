{
  "nbformat": 4,
  "nbformat_minor": 0,
  "metadata": {
    "colab": {
      "provenance": [],
      "collapsed_sections": [],
      "authorship_tag": "ABX9TyO1m4VRaALZIZgiRzmZd2og",
      "include_colab_link": true
    },
    "kernelspec": {
      "name": "python3",
      "display_name": "Python 3"
    },
    "language_info": {
      "name": "python"
    }
  },
  "cells": [
    {
      "cell_type": "markdown",
      "metadata": {
        "id": "view-in-github",
        "colab_type": "text"
      },
      "source": [
        "<a href=\"https://colab.research.google.com/github/yukinaga/bayesian_statistics/blob/main/section_2/05_likelihood.ipynb\" target=\"_parent\"><img src=\"https://colab.research.google.com/assets/colab-badge.svg\" alt=\"Open In Colab\"/></a>"
      ]
    },
    {
      "cell_type": "markdown",
      "metadata": {
        "id": "6TZZdyRFgSIe"
      },
      "source": [
        "# 尤度\n",
        "尤度（ゆうど）は、データの尤も（もっとも）らしさを表します。  \n",
        "このノートブックには高校以上の数学が含まれるので、内容が難しい方はスキップしても構いません。"
      ]
    },
    {
      "cell_type": "markdown",
      "metadata": {
        "id": "I6d8o0KUgSIg"
      },
      "source": [
        "## ●尤度とは？\n",
        "\n",
        "以下の個数がnのデータを考えます。  \n",
        "\n",
        "$$x_1,x_2,\\cdots ,x_n$$\n",
        "\n",
        "これらの値が生じる確率を次のように表します。\n",
        "\n",
        "$$p(x_1),p(x_2),\\cdots ,p(x_n)$$\n",
        "\n",
        "\n",
        "このとき「尤度」は、以下ように全てのデータの確率の積で表されます。\n",
        "\n",
        "$$p(x_1)p(x_2)\\cdots p(x_n) = \\prod_{k=1}^n p(x_k)$$\n",
        "\n",
        "\n",
        "正規分布に従う確率は、以下の確率密度関数で表されます。  \n",
        "\n",
        "$$ p(x)=\\frac{1}{ \\sigma\\sqrt{2\\pi}}\\exp\\Bigl(-\\frac{(x-\\mu)^2}{2\\sigma ^2}\\Bigr) $$ \n",
        "\n",
        "$\\mu$は平均値で、$\\sigma$は標準偏差です。  \n",
        "データの分布が正規分布である場合、尤度は確率密度関数を使って以下のように表すことができます。  \n",
        "  \n",
        "$$L = \\prod_{k=1}^n p(x_k) = \\Bigl(\\frac{1}{ \\sigma\\sqrt{2\\pi}}\\Bigr)^n\\prod_{k=1}^n\\exp\\Bigl(-\\frac{(x_k-\\mu)^2}{2\\sigma ^2}\\Bigr) = \\Bigl(\\frac{1}{ \\sigma\\sqrt{2\\pi}}\\Bigr)^n\\exp\\Bigl(-\\sum_{k=1}^n \\frac{(x_k-\\mu)^2}{2\\sigma ^2}\\Bigr)$$\n",
        " \n",
        " 尤度は確率の積なので、このままの形では0に限りなく近い値になってしまいます。  \n",
        " そこで、尤度はしばしば対数の形で扱われます。  \n",
        "値の大小の傾向は、 対数の形であれば変わりません。  \n",
        "対数尤度は、以下の式で表されます。  \n",
        " \n",
        " $$\\log{L} = \\sum_{k=1}^n \\log p(x_k) = n\\log\\Bigl(\\frac{1}{ \\sigma\\sqrt{2\\pi}}\\Bigr) - \\sum_ {k=1}^n \\frac{(x_k-\\mu)^2}{2\\sigma ^2}$$"
      ]
    },
    {
      "cell_type": "markdown",
      "metadata": {
        "id": "FPunU0YtgSIg"
      },
      "source": [
        "## ●小さい尤度\n",
        "データと、確率密度関数を重ねてグラフに描画します。  \n",
        "確率密度関数で使用する平均値$\\mu$は0、標準偏差$\\sigma$は1とします。  \n",
        "さらに、データがこの確率密度関数に従うとした場合の尤度と対数尤度を計算します。"
      ]
    },
    {
      "cell_type": "code",
      "execution_count": null,
      "metadata": {
        "id": "ejziSTjxgSIh"
      },
      "outputs": [],
      "source": [
        "import numpy as np\n",
        "import matplotlib.pyplot as plt\n",
        "\n",
        "x_data = np.array([2.3, 1.0, 2.5, 3.1, 4.6])  # データ\n",
        "y_data = np.zeros(5)  # グラフ表示のための便宜的なデータ\n",
        "\n",
        "mu = 0  # 平均値\n",
        "sigma = 1  # 標準偏差\n",
        "\n",
        "# 確率密度関数\n",
        "def pdf(x, mu, sigma):\n",
        "    return 1/(sigma*np.sqrt(2*np.pi))*np.exp(-(x-mu)**2 / (2*sigma**2))\n",
        "\n",
        "x_pdf = np.linspace(-5, 5)\n",
        "y_pdf = pdf(x_pdf, mu, sigma)\n",
        "\n",
        "plt.scatter(x_data, y_data)\n",
        "plt.plot(x_pdf, y_pdf)\n",
        "\n",
        "plt.xlabel(\"x\", size=14)\n",
        "plt.ylabel(\"y\", size=14)\n",
        "plt.grid()\n",
        "\n",
        "plt.show()\n",
        "\n",
        "print(\"尤度: \", np.prod(pdf(x_data, mu, sigma)))  # 尤度の計算\n",
        "print(\"対数尤度:\", np.sum(np.log(pdf(x_data, mu, sigma))))  # 対数尤度の計算"
      ]
    },
    {
      "cell_type": "code",
      "metadata": {
        "id": "G2cA1xc4CZ8_"
      },
      "source": [
        "# 練習用\n"
      ],
      "execution_count": null,
      "outputs": []
    },
    {
      "cell_type": "markdown",
      "metadata": {
        "id": "eTyh5avRgSIi"
      },
      "source": [
        "データが確率密度関数の中心から大きくから外れています。  \n",
        "この正規分布を想定する場合、これらのデータは「もっともらしさ」が小さいことになります。  "
      ]
    },
    {
      "cell_type": "markdown",
      "metadata": {
        "id": "eUebfVyggSIi"
      },
      "source": [
        "## ●大きい尤度\n",
        "確率密度関数で使用する、標準偏差と平均値を変更します。  \n",
        "今回は、データの標準偏差と平均値を使います。"
      ]
    },
    {
      "cell_type": "code",
      "execution_count": null,
      "metadata": {
        "id": "areeG9kIgSIj"
      },
      "outputs": [],
      "source": [
        "import numpy as np\n",
        "import matplotlib.pyplot as plt\n",
        "\n",
        "x_data = np.array([2.3, 1.0, 2.5, 3.1, 4.6])  # データ\n",
        "y_data = np.zeros(5)  # グラフ表示のための便宜的なデータ\n",
        " \n",
        "mu = np.average(x_data)  # データの平均値\n",
        "sigma = np.std(x_data)   # データの標準偏差\n",
        "\n",
        "# 確率密度関数\n",
        "def pdf(x, mu, sigma):\n",
        "    return 1/(sigma*np.sqrt(2*np.pi))*np.exp(-(x-mu)**2 / (2*sigma**2))\n",
        "\n",
        "x_pdf = np.linspace(-3, 8)\n",
        "y_pdf = pdf(x_pdf, mu, sigma)\n",
        "\n",
        "plt.scatter(x_data, y_data)\n",
        "plt.plot(x_pdf, y_pdf)\n",
        "\n",
        "plt.xlabel(\"x\", size=14)\n",
        "plt.ylabel(\"y\", size=14)\n",
        "plt.grid()\n",
        "\n",
        "plt.show()\n",
        "\n",
        "print(\"尤度: \", np.prod(pdf(x_data, mu, sigma)))  # 尤度の計算\n",
        "print(\"対数尤度:\", np.sum(np.log(pdf(x_data, mu, sigma))))  # 対数尤度の計算"
      ]
    },
    {
      "cell_type": "code",
      "metadata": {
        "id": "ACAABsueNj_Y"
      },
      "source": [
        "# 練習用\n"
      ],
      "execution_count": null,
      "outputs": []
    },
    {
      "cell_type": "markdown",
      "metadata": {
        "id": "QYr9Ft53gSIj"
      },
      "source": [
        "この確率密度関数を想定する場合、データの分布はもっともらしく見えます。  \n",
        "尤度と対数尤度は、先ほどよりも大きな値になりました。  \n",
        "  \n",
        "正規分布を想定する場合、確率密度関数にデータの標準偏差と平均値を使うと尤度は最大になります。  "
      ]
    }
  ]
}