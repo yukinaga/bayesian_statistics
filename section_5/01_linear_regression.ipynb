{
  "nbformat": 4,
  "nbformat_minor": 0,
  "metadata": {
    "colab": {
      "provenance": [],
      "collapsed_sections": [],
      "authorship_tag": "ABX9TyMYbIrHDpLplx8qS9tUNy9l",
      "include_colab_link": true
    },
    "kernelspec": {
      "name": "python3",
      "display_name": "Python 3"
    },
    "language_info": {
      "name": "python"
    }
  },
  "cells": [
    {
      "cell_type": "markdown",
      "metadata": {
        "id": "view-in-github",
        "colab_type": "text"
      },
      "source": [
        "<a href=\"https://colab.research.google.com/github/yukinaga/bayesian_statistics/blob/main/section_5/01_linear_regression.ipynb\" target=\"_parent\"><img src=\"https://colab.research.google.com/assets/colab-badge.svg\" alt=\"Open In Colab\"/></a>"
      ]
    },
    {
      "cell_type": "markdown",
      "metadata": {
        "id": "JsdhCm7yB71r"
      },
      "source": [
        "#  ベイズ推定による線形回帰\n",
        "線形回帰は、教師あり学習の一種で、変数間の関係を予測します。  \n",
        "今回は、ベイズ推定による線形回帰をPyMC3により実装します。"
      ]
    },
    {
      "cell_type": "markdown",
      "source": [
        "## pymc3のインストール\n",
        "pymc3をpipによりインストールします。"
      ],
      "metadata": {
        "id": "9_PFpxn3ua0W"
      }
    },
    {
      "cell_type": "code",
      "source": [
        "!pip install pymc3"
      ],
      "metadata": {
        "id": "AJiV0qzIpcXx"
      },
      "execution_count": null,
      "outputs": []
    },
    {
      "cell_type": "markdown",
      "metadata": {
        "id": "zAQEbDh9qlXu"
      },
      "source": [
        "必要な各設定を行います。"
      ]
    },
    {
      "cell_type": "code",
      "metadata": {
        "id": "n09hEfCoIQ7c"
      },
      "source": [
        "import numpy as np\n",
        "from matplotlib import pyplot as plt\n",
        "import pymc3 as pm\n",
        "import statsmodels.api as sm\n",
        "\n",
        "plt.style.use(\"seaborn-darkgrid\")\n",
        "plt.rcParams[\"figure.figsize\"] = [12, 9]  # グラフの大きさ"
      ],
      "execution_count": null,
      "outputs": []
    },
    {
      "cell_type": "markdown",
      "metadata": {
        "id": "k4XlOt58odfm"
      },
      "source": [
        "## データセットの読み込み\n",
        "3品種、合計150個の花のデータ「Iris dataset」を読み込みます。  "
      ]
    },
    {
      "cell_type": "code",
      "metadata": {
        "id": "kg-FuOdpodfm"
      },
      "source": [
        "import pandas as pd\n",
        "from sklearn import datasets\n",
        "\n",
        "iris = datasets.load_iris()\n",
        "iris_df = pd.DataFrame(iris.data, columns=iris.feature_names)\n",
        "iris_df.head()"
      ],
      "execution_count": null,
      "outputs": []
    },
    {
      "cell_type": "markdown",
      "metadata": {
        "id": "6uwaj2nyodfm"
      },
      "source": [
        "各列のラベルの意味は、`DESCR`により表示できます。"
      ]
    },
    {
      "cell_type": "code",
      "metadata": {
        "id": "ajvzh2T0odfm"
      },
      "source": [
        "print(iris.DESCR)  # データセットの説明"
      ],
      "execution_count": null,
      "outputs": []
    },
    {
      "cell_type": "markdown",
      "metadata": {
        "id": "JtNOi9bPodfm"
      },
      "source": [
        "データセットの特徴を把握するために、`describe()`で統計量を表示します。\n",
        "\n"
      ]
    },
    {
      "cell_type": "code",
      "metadata": {
        "id": "-92H1mbjodfm"
      },
      "source": [
        "iris_df.describe()"
      ],
      "execution_count": null,
      "outputs": []
    },
    {
      "cell_type": "markdown",
      "metadata": {
        "id": "4P87IMlUQtsN"
      },
      "source": [
        "## ●単回帰\n",
        "単回帰では、直線を使い1つの説明変数で目的変数を予測します。  \n",
        "$x$を説明変数、$y$を目的変数、$a$を係数、$b$を切片としたとき、単回帰は以下の式で表されます。  \n",
        "$$y = ax + b$$\n",
        "\n",
        "以下のコードでは、linear_model.LinearRegressionにより線形回帰のモデルを生成し、fitメソッドにより、モデルの訓練を行います。  \n",
        "訓練の結果、式の係数と切片が最適化されます。  \n"
      ]
    },
    {
      "cell_type": "code",
      "metadata": {
        "id": "AgnQ5FJCQstZ"
      },
      "source": [
        "from sklearn import linear_model\n",
        "\n",
        "x = iris_df[\"sepal length (cm)\"]  # 額の長さ\n",
        "y = iris_df[\"petal length (cm)\"]  # 花弁の長さ\n",
        "\n",
        "lm = linear_model.LinearRegression() # 線形回帰モデル\n",
        "lm.fit(x.values.reshape(-1, 1), y.values.reshape(-1, 1))  # モデルの訓練"
      ],
      "execution_count": null,
      "outputs": []
    },
    {
      "cell_type": "markdown",
      "metadata": {
        "id": "BBgb0ZLJt7rz"
      },
      "source": [
        "訓練済みのモデルから、式の係数と切片を取得します。"
      ]
    },
    {
      "cell_type": "code",
      "metadata": {
        "id": "yRNtXC_mTDy6"
      },
      "source": [
        "a = lm.coef_[0][0] # 係数\n",
        "b = lm.intercept_[0] # 切片\n",
        "print(\"a: \", a) \n",
        "print(\"b: \", b) "
      ],
      "execution_count": null,
      "outputs": []
    },
    {
      "cell_type": "markdown",
      "metadata": {
        "id": "vgtKKpm3xMqG"
      },
      "source": [
        "取得した係数と切片を使った回帰直線を、元のデータとともにグラフで表示します。"
      ]
    },
    {
      "cell_type": "code",
      "metadata": {
        "id": "9Pj4AMghTEqb"
      },
      "source": [
        "import matplotlib.pyplot as plt\n",
        "\n",
        "plt.scatter(x, y)\n",
        "\n",
        "y_reg = a * x + b  # 回帰直線\n",
        "plt.plot(x, y_reg, c=\"red\") \n",
        "\n",
        "plt.xlabel(\"sepal length (cm)\")\n",
        "plt.ylabel(\"petal length (cm)\")\n",
        "plt.show()"
      ],
      "execution_count": null,
      "outputs": []
    },
    {
      "cell_type": "markdown",
      "metadata": {
        "id": "wp3rqJrKZQEF"
      },
      "source": [
        "## PyMC3による線形回帰\n",
        "\n"
      ]
    },
    {
      "cell_type": "markdown",
      "metadata": {
        "id": "1sMwx6WLZQEF"
      },
      "source": [
        "PyMC3により、線形回帰の統計モデルを実装します。  \n",
        "この場合、事前分布には係数、切片、データのばらつき具合の3つがあります。  \n",
        "\n",
        "\n"
      ]
    },
    {
      "cell_type": "code",
      "execution_count": null,
      "metadata": {
        "id": "PulmFu1DZQEF"
      },
      "outputs": [],
      "source": [
        "with pm.Model() as model:\n",
        "    \n",
        "    # 事前分布\n",
        "    a_n = pm.Normal(\"a\", a, 10)  # 係数\n",
        "    b_n = pm.Normal(\"b\", b, 10)  # 切片\n",
        "    e = pm.Exponential(\"error\", 1)  # データのばらつき\n",
        "    \n",
        "    obs = pm.Normal(\"likehood\", a_n*x + b_n, e, observed=y)\n",
        "    trace = pm.sample(4000, chains=2, return_inferencedata=False)"
      ]
    },
    {
      "cell_type": "markdown",
      "source": [
        "pm.summary()によりモデルの概要を表示します。"
      ],
      "metadata": {
        "id": "KMO4oINSMM1y"
      }
    },
    {
      "cell_type": "code",
      "source": [
        "with model:\n",
        "    print(pm.summary(trace, hdi_prob=0.95))"
      ],
      "metadata": {
        "id": "dfkNysbWa3wz"
      },
      "execution_count": null,
      "outputs": []
    },
    {
      "cell_type": "markdown",
      "source": [
        "plot_posteriorにより、PyMC3によって推論された事後分布をグラフで表示します。"
      ],
      "metadata": {
        "id": "Fru99WmVMZZ5"
      }
    },
    {
      "cell_type": "code",
      "source": [
        "with model:\n",
        "    pm.plot_posterior(trace, point_estimate='mode')"
      ],
      "metadata": {
        "id": "bYo5xeUPdJHe"
      },
      "execution_count": null,
      "outputs": []
    },
    {
      "cell_type": "markdown",
      "source": [
        "`pm.plot_trace()`によりサンプリング結果を可視化します。"
      ],
      "metadata": {
        "id": "lsHyrcswMnmp"
      }
    },
    {
      "cell_type": "code",
      "source": [
        "with model:\n",
        "    pm.plot_trace(trace)"
      ],
      "metadata": {
        "id": "xWaRzF0LdVwL"
      },
      "execution_count": null,
      "outputs": []
    },
    {
      "cell_type": "markdown",
      "source": [
        "事後分布から、`sample_posterior_predictive()`によりサンプリングを行います。"
      ],
      "metadata": {
        "id": "iFlAr48dM9_U"
      }
    },
    {
      "cell_type": "code",
      "source": [
        "with model:\n",
        "    y_p = pm.sample_posterior_predictive(trace, samples=5000, model=model)\n",
        "\n",
        "y_pred = y_p[\"likehood\"]"
      ],
      "metadata": {
        "id": "1-LCw44ddlLZ"
      },
      "execution_count": null,
      "outputs": []
    },
    {
      "cell_type": "markdown",
      "source": [
        "データの形状を確認します。"
      ],
      "metadata": {
        "id": "j6Q5s8BeOEsq"
      }
    },
    {
      "cell_type": "code",
      "source": [
        "y_pred.shape"
      ],
      "metadata": {
        "id": "UhR_kf6mdr5W"
      },
      "execution_count": null,
      "outputs": []
    },
    {
      "cell_type": "markdown",
      "source": [
        "グラフを信頼区間と共に描画します。"
      ],
      "metadata": {
        "id": "SQP1jWpNOSkj"
      }
    },
    {
      "cell_type": "code",
      "source": [
        "# 係数と切片の推定\n",
        "a_m = trace[\"a\"].mean()\n",
        "b_m = trace[\"b\"].mean()\n",
        "\n",
        "# 信頼区間の設定\n",
        "x_i = np.argsort(x)\n",
        "h_95 = pm.hdi(y_pred, hdi_prob=0.95)[x_i]\n",
        "x_h = x[x_i]\n",
        "\n",
        "plt.scatter(x, y, label=\"data\")\n",
        "plt.plot(x_h, a_m*x_h+b_m, c = \"red\", label=\"y=ax+b\")\n",
        "plt.fill_between(x_h, h_95[:,0], h_95[:,1], alpha=0.25, label=\"95hpd\")\n",
        "\n",
        "plt.legend()\n",
        "plt.show()"
      ],
      "metadata": {
        "id": "SEx0CS_MdujH"
      },
      "execution_count": null,
      "outputs": []
    }
  ]
}