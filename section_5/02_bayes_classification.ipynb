{
  "nbformat": 4,
  "nbformat_minor": 0,
  "metadata": {
    "colab": {
      "provenance": [],
      "collapsed_sections": [],
      "authorship_tag": "ABX9TyN+RG8oLtqcdBTQtbGHSx0F",
      "include_colab_link": true
    },
    "kernelspec": {
      "name": "python3",
      "display_name": "Python 3"
    },
    "language_info": {
      "name": "python"
    }
  },
  "cells": [
    {
      "cell_type": "markdown",
      "metadata": {
        "id": "view-in-github",
        "colab_type": "text"
      },
      "source": [
        "<a href=\"https://colab.research.google.com/github/yukinaga/bayesian_statistics/blob/main/section_5/02_bayes_classification.ipynb\" target=\"_parent\"><img src=\"https://colab.research.google.com/assets/colab-badge.svg\" alt=\"Open In Colab\"/></a>"
      ]
    },
    {
      "cell_type": "markdown",
      "source": [
        "#  ベイズ推定による分類\n",
        "PyMC3により、ベイズ推定による分類を実装します。"
      ],
      "metadata": {
        "id": "YJc_8NYlXyrV"
      }
    },
    {
      "cell_type": "markdown",
      "source": [
        "## pymc3のインストール\n",
        "pymc3をpipによりインストールします。"
      ],
      "metadata": {
        "id": "9_PFpxn3ua0W"
      }
    },
    {
      "cell_type": "code",
      "source": [
        "!pip install pymc3"
      ],
      "metadata": {
        "id": "AJiV0qzIpcXx"
      },
      "execution_count": null,
      "outputs": []
    },
    {
      "cell_type": "markdown",
      "metadata": {
        "id": "zAQEbDh9qlXu"
      },
      "source": [
        "必要な各設定を行います。"
      ]
    },
    {
      "cell_type": "code",
      "metadata": {
        "id": "n09hEfCoIQ7c"
      },
      "source": [
        "import numpy as np\n",
        "from matplotlib import pyplot as plt\n",
        "import pandas as pd\n",
        "import pymc3 as pm\n",
        "import seaborn as sns\n",
        "\n",
        "plt.style.use(\"seaborn-darkgrid\")\n",
        "plt.rcParams[\"figure.figsize\"] = [12, 9]  # グラフの大きさ"
      ],
      "execution_count": null,
      "outputs": []
    },
    {
      "cell_type": "markdown",
      "source": [
        "## ロジスティック回帰\n",
        "今回は、「ロジスティック回帰」による結果を分類します。  \n",
        "ロジスティック回帰は、以下のように表されます。  \n",
        "\n",
        "$$\\theta = logistic(ax+b)$$\n",
        "\n",
        "$$y\\sim Bernoulli(\\theta)$$\n",
        "\n",
        "ここで、`logistic`は以下の「シグモイド」関数で表されます。\n",
        "\n",
        "$$logistic(x) = \\frac{1}{1+\\exp{(-x)}}$$\n",
        "\n",
        "以下は、シグモイド関数をグラフに描画するコードです。"
      ],
      "metadata": {
        "id": "vyfJPMVYirtz"
      }
    },
    {
      "cell_type": "code",
      "source": [
        "x = np.linspace(-12, 12, 100)\n",
        "logistic = 1 / (1 + np.exp(-x))\n",
        "\n",
        "plt.plot(x, logistic)\n",
        "plt.xlabel(\"$x$\")\n",
        "plt.ylabel(\"$logistic$\")\n",
        "plt.show()"
      ],
      "metadata": {
        "id": "YXuDrzEIXUpv"
      },
      "execution_count": null,
      "outputs": []
    },
    {
      "cell_type": "markdown",
      "source": [
        "シグモイド関数は、0と1の間を滑らかに変化します。"
      ],
      "metadata": {
        "id": "-dtoVZOLzqD5"
      }
    },
    {
      "cell_type": "markdown",
      "source": [
        "## Iris datasetの読み込み\n",
        "Iris datasetを読み込み、2つの品種のカテゴリ変数を設定します。  "
      ],
      "metadata": {
        "id": "D7x-HyEEj1J-"
      }
    },
    {
      "cell_type": "code",
      "source": [
        "iris = sns.load_dataset(\"iris\")\n",
        "\n",
        "df = iris.query(\"species == ('setosa', 'versicolor')\")  # 2品種を使用\n",
        "y = pd.Categorical(df[\"species\"]).codes  # カテゴリ変数を定義\n",
        "print(\"Categories:\", y)\n",
        "\n",
        "x_pl = \"petal_length\"  # 花びらの長さ\n",
        "x = df[x_pl].values\n",
        "\n",
        "plt.scatter(x, y)\n",
        "plt.xlabel(x_pl)\n",
        "plt.ylabel(r\"$\\theta$\")\n",
        "plt.show()"
      ],
      "metadata": {
        "id": "UKgX4zxYXXTW"
      },
      "execution_count": null,
      "outputs": []
    },
    {
      "cell_type": "markdown",
      "source": [
        "## モデルの構築\n",
        "PyMC3により、分類のための統計モデルを実装します。  "
      ],
      "metadata": {
        "id": "q_xHsW5bmVcK"
      }
    },
    {
      "cell_type": "code",
      "source": [
        "with pm.Model() as model:\n",
        "    a = pm.Normal(\"a\", mu=0, sd=1)\n",
        "    b = pm.Normal(\"b\", mu=0, sd=1)\n",
        "  \n",
        "    mu = pm.math.dot(x, a) + b\n",
        "    theta = pm.Deterministic(\"theta\", 1 / (1+pm.math.exp(-mu)))  # 後でこの値を使用\n",
        "    obs = pm.Bernoulli(\"likehood\", p=theta, observed=y)\n",
        "\n",
        "    trace = pm.sample(4000, chains=2, return_inferencedata=False)\n",
        "\n",
        "vars_to_see = [\"a\", \"b\"]"
      ],
      "metadata": {
        "id": "BcGipJkbXj1r"
      },
      "execution_count": null,
      "outputs": []
    },
    {
      "cell_type": "markdown",
      "source": [
        "pm.summary()によりモデルの概要を表示します。"
      ],
      "metadata": {
        "id": "KMO4oINSMM1y"
      }
    },
    {
      "cell_type": "code",
      "source": [
        "with model:\n",
        "    print(pm.summary(trace, vars_to_see, hdi_prob=0.95))"
      ],
      "metadata": {
        "id": "dfkNysbWa3wz"
      },
      "execution_count": null,
      "outputs": []
    },
    {
      "cell_type": "markdown",
      "source": [
        "plot_posteriorにより、PyMC3によって推論された事後分布をグラフで表示します。"
      ],
      "metadata": {
        "id": "Fru99WmVMZZ5"
      }
    },
    {
      "cell_type": "code",
      "source": [
        "with model:\n",
        "    pm.plot_posterior(trace, vars_to_see, point_estimate='mode')"
      ],
      "metadata": {
        "id": "bYo5xeUPdJHe"
      },
      "execution_count": null,
      "outputs": []
    },
    {
      "cell_type": "markdown",
      "source": [
        "`pm.plot_trace()`によりサンプリング結果を可視化します。"
      ],
      "metadata": {
        "id": "lsHyrcswMnmp"
      }
    },
    {
      "cell_type": "code",
      "source": [
        "with model:\n",
        "    pm.plot_trace(trace, vars_to_see)"
      ],
      "metadata": {
        "id": "xWaRzF0LdVwL"
      },
      "execution_count": null,
      "outputs": []
    },
    {
      "cell_type": "markdown",
      "source": [
        "## 分類結果のグラフ表示\n",
        "グラフを信頼区間と共に描画します。"
      ],
      "metadata": {
        "id": "RxQfUq01up_C"
      }
    },
    {
      "cell_type": "code",
      "source": [
        "theta = trace[\"theta\"].mean(axis=0)\n",
        "idx = np.argsort(x)\n",
        "\n",
        "theta_hdi = pm.hdi(trace[\"theta\"], hdi_prob=0.95)[idx]\n",
        "plt.fill_between(x[idx], theta_hdi[:,0], theta_hdi[:,1], color=\"r\", alpha=0.4)\n",
        "\n",
        "plt.plot(x[idx], theta[idx], color=\"r\")\n",
        "\n",
        "plt.scatter(x, y)\n",
        "\n",
        "plt.xlabel(x_pl)\n",
        "plt.ylabel(r\"$\\theta$\")\n",
        "plt.show() "
      ],
      "metadata": {
        "id": "wc-zbXzjXnFG"
      },
      "execution_count": null,
      "outputs": []
    }
  ]
}